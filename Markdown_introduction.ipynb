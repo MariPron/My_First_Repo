{
  "nbformat": 4,
  "nbformat_minor": 0,
  "metadata": {
    "colab": {
      "name": "Markdown introduction.ipynb",
      "provenance": [],
      "collapsed_sections": [],
      "include_colab_link": true
    },
    "kernelspec": {
      "name": "python3",
      "display_name": "Python 3"
    }
  },
  "cells": [
    {
      "cell_type": "markdown",
      "metadata": {
        "id": "view-in-github",
        "colab_type": "text"
      },
      "source": [
        "<a href=\"https://colab.research.google.com/github/MariPron/My_First_Repo/blob/master/Markdown_introduction.ipynb\" target=\"_parent\"><img src=\"https://colab.research.google.com/assets/colab-badge.svg\" alt=\"Open In Colab\"/></a>"
      ]
    },
    {
      "cell_type": "markdown",
      "metadata": {
        "id": "EcmqQWdxtNh_",
        "colab_type": "text"
      },
      "source": [
        "#**Инструкция для работы с Markdown**\n",
        "\n",
        "Нужно сделать:\n",
        "1. Списочек\n",
        "2. Рисуночек\n",
        "3. Табличечку\n",
        "4. Ссылочку\n",
        "\n",
        "![Google Colab logo](https://colab.research.google.com/img/colab_favicon_256px.png)\n",
        "\n",
        "№ Бринады | Участники \n",
        "---|---\n",
        "1|Архипов <br /> Быстров\n",
        "2|<li>Бекетов</li> <br /><li>Пронь</li>\n",
        "3|Белевцов, Пирогов\n",
        "...|...\n",
        "11|Сергеев <br />Сороковиков\n",
        "\n",
        "[Markdown guide](https://colab.research.google.com/notebooks/markdown_guide.ipynb)"
      ]
    }
  ]
}